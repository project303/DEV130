{
  "cells": [
    {
      "cell_type": "code",
      "source": [
        "!whoami"
      ],
      "metadata": {
        "id": "IdylKjfwLIS8"
      },
      "execution_count": null,
      "outputs": []
    },
    {
      "cell_type": "code",
      "source": [
        "!hostname"
      ],
      "metadata": {
        "id": "yiEF4uqbLLHE"
      },
      "execution_count": null,
      "outputs": []
    },
    {
      "cell_type": "code",
      "source": [
        "!pwd"
      ],
      "metadata": {
        "id": "kqMBMr_xLO1-"
      },
      "execution_count": null,
      "outputs": []
    },
    {
      "cell_type": "code",
      "source": [
        "! date"
      ],
      "metadata": {
        "id": "YH8rkZHTLUdR"
      },
      "execution_count": null,
      "outputs": []
    },
    {
      "cell_type": "markdown",
      "metadata": {
        "id": "8I1tMAhoFrYW"
      },
      "source": [
        "# Python for Processing and Analyzing Data - Pandas"
      ]
    },
    {
      "cell_type": "markdown",
      "metadata": {
        "id": "J0ApOMjkFrYY"
      },
      "source": [
        "Pandas adalah sebuah paket library pada python yang digunakan untuk mempermudah dalam mengolah dan menganalisa data-data terstruktur. Pandas merupakan paket penting yang wajib diketahui untuk seorang data engineer, data analyst dan data scientist jika ingin mengolah dan manganalisa data menggunakan python. Jika kamu telah terbiasa menggunakan SQL, maka tidak akan sulit untuk membiasakan diri menggunakan fungsi-fungsi pada Pandas.\n",
        "\n",
        "Panda memiliki format data yang sering digunakan, disebut DataFrame. Pandas DataFrame adalah struktur data 2 Dimensi. Data distrukturisasi seperti tabel yang berisi baris dan kolom, sehingga mudah untuk melakukan queri atau mengakses data tersebut. Baris merepresentasikan record dan kolom merepresentasikan field."
      ]
    },
    {
      "cell_type": "code",
      "source": [
        "import sys\n",
        "\n",
        "print(sys.version)"
      ],
      "metadata": {
        "id": "xYN3c7i3Gdzj"
      },
      "execution_count": null,
      "outputs": []
    },
    {
      "cell_type": "markdown",
      "metadata": {
        "id": "_WrlIoCcFrYb"
      },
      "source": [
        "## Import Paket Pandas\n"
      ]
    },
    {
      "cell_type": "code",
      "execution_count": null,
      "metadata": {
        "id": "l54-696EFrYc"
      },
      "outputs": [],
      "source": [
        "import pandas as pd\n",
        "\n",
        "print('Pandas version: {}'.format(pd.__version__))"
      ]
    },
    {
      "cell_type": "markdown",
      "metadata": {
        "id": "TkUOp-FGFrYe"
      },
      "source": [
        "## Membaca File csv\n",
        "\n",
        "Dataset yang akan digunakan adalah dataset yang sederhana, sehungga lebih mudah untuk memahami Pandas. Data diambil dari Badan Pusat Statistik (bps.go.id). Dataset tersebut memuat beberapa informasi tentang provinsi di Indonesia pada tahun 2015. \n",
        "\n",
        "File dataset yang digunakan adalah **data-provinsi-2015.csv** dan dapat didownload pada [github](https://raw.githubusercontent.com/project303/dataset/master/data-province-2015.cvs)"
      ]
    },
    {
      "cell_type": "code",
      "execution_count": null,
      "metadata": {
        "id": "85tVKUnBFrYf"
      },
      "outputs": [],
      "source": [
        "url = \"https://raw.githubusercontent.com/project303/dataset/master/data-province-2015.cvs\"\n",
        "df = pd.read_csv(url, sep='\\t')"
      ]
    },
    {
      "cell_type": "markdown",
      "metadata": {
        "id": "eNKMOqfiFrYi"
      },
      "source": [
        "## Sample Data"
      ]
    },
    {
      "cell_type": "code",
      "execution_count": null,
      "metadata": {
        "id": "D-SWxrnuFrYj"
      },
      "outputs": [],
      "source": [
        "df.head()"
      ]
    },
    {
      "cell_type": "markdown",
      "metadata": {
        "id": "tumsRBaiFrYk"
      },
      "source": [
        "Dataset ini memiliki 10 kolom:\n",
        "\n",
        "1.   province: nama provinsi di Indonesia\n",
        "2.   rainfall: jumah curah hujan dalam mm yang diambil dari stasiun pengamatan yang dimiliki BMKG\n",
        "3.   rainy_day: jumlah hari terjadinya hujan dalam setahun\n",
        "4.   expenses_food_urban: rata-rata pengeluaran perkapita dalam sebulan untuk makanan di perkotaan\n",
        "5.   expenses_other_urban: rata-rata pengeluaran perkapita dalam sebulan untuk barang non makanan di perkotaan\n",
        "6.   expenses_food_rural: rata-rata pengeluaran perkapita dalam sebulan untuk makanan di pedesaan\n",
        "7.   expense_other_rural: rata-rata pengeluaran perkapita dalam sebulan untuk barang non makanan di pedesaan\n",
        "8.   unemployment: persentase angka pengangguran bulan agustus\n",
        "9.   time_zone: klasifikasi zona waktu\n",
        "10.   island: nama pulau"
      ]
    },
    {
      "cell_type": "code",
      "execution_count": null,
      "metadata": {
        "id": "nYm8lGQpFrYl"
      },
      "outputs": [],
      "source": [
        "df.head(10)"
      ]
    },
    {
      "cell_type": "code",
      "execution_count": null,
      "metadata": {
        "id": "jEwLOBvKFrYl"
      },
      "outputs": [],
      "source": [
        "df.tail()"
      ]
    },
    {
      "cell_type": "markdown",
      "metadata": {
        "id": "SGm4ZTMSFrYm"
      },
      "source": [
        "Fungsi **sample()** pada Pandas dapat digunakan jika kita ingin menampilkan dataframe secara acak. Misalkan menampilkan 10 dataframe secara acak"
      ]
    },
    {
      "cell_type": "code",
      "execution_count": null,
      "metadata": {
        "id": "nD3avN9EFrYm"
      },
      "outputs": [],
      "source": [
        "df.sample(10)"
      ]
    },
    {
      "cell_type": "markdown",
      "metadata": {
        "id": "claNuxMfFrYn"
      },
      "source": [
        "Jika ingin menampilkan seluruh data yang ada dalam DataFrame"
      ]
    },
    {
      "cell_type": "code",
      "execution_count": null,
      "metadata": {
        "id": "Pq8XxXaYFrYn"
      },
      "outputs": [],
      "source": [
        "df"
      ]
    },
    {
      "cell_type": "markdown",
      "metadata": {
        "id": "IX81P7C0FrYo"
      },
      "source": [
        "## Jumlah Data\n",
        "\n",
        "Untuk memperoleh informasi jumlah records pada setiap kolom menggunakan perintah **count()**"
      ]
    },
    {
      "cell_type": "code",
      "execution_count": null,
      "metadata": {
        "id": "GU2fu-qmFrYo"
      },
      "outputs": [],
      "source": [
        "df.count()"
      ]
    },
    {
      "cell_type": "markdown",
      "metadata": {
        "id": "41aVmIQjFrYq"
      },
      "source": [
        "Cara lain untuk menampilkan jumlah record adalah dengan menggunakan property **shape**"
      ]
    },
    {
      "cell_type": "code",
      "execution_count": null,
      "metadata": {
        "id": "iC1bC8tqFrYq"
      },
      "outputs": [],
      "source": [
        "df.shape[0]"
      ]
    },
    {
      "cell_type": "markdown",
      "metadata": {
        "id": "x17wg-mAFrYr"
      },
      "source": [
        "## Informasi Struktur Data\n",
        "\n",
        "Property **shape** dapat digunakan untuk mengetahui dimensi dari dataframe"
      ]
    },
    {
      "cell_type": "code",
      "execution_count": null,
      "metadata": {
        "id": "pmaeIIAZFrYr"
      },
      "outputs": [],
      "source": [
        "df.shape"
      ]
    },
    {
      "cell_type": "markdown",
      "metadata": {
        "id": "cEZNoxleFrYr"
      },
      "source": [
        "Property DataFrame lainnya adalah **dtypes**, yang dapat digunakan untuk melihat struktur dari data"
      ]
    },
    {
      "cell_type": "code",
      "execution_count": null,
      "metadata": {
        "id": "izntd6n3FrYs"
      },
      "outputs": [],
      "source": [
        "df.dtypes"
      ]
    },
    {
      "cell_type": "markdown",
      "metadata": {
        "id": "rAjqC_oNFrYs"
      },
      "source": [
        "Informasi lebih detail mengenai struktur DataFrame dapat dilihat menggunakan fungsi **info()**"
      ]
    },
    {
      "cell_type": "code",
      "execution_count": null,
      "metadata": {
        "id": "Dc5v-4APFrYs"
      },
      "outputs": [],
      "source": [
        "df.info()"
      ]
    },
    {
      "cell_type": "markdown",
      "metadata": {
        "id": "NavXMzBrFrYt"
      },
      "source": [
        "## Informasi Statistik\n",
        "\n",
        "Informasi statistik untuk setiap kolom seperti nilai minimum, nilai maksimum, standar deviasi, rata-rata dan sebagainya, dapat ditampilkan dengan mengikuti perintah berikut"
      ]
    },
    {
      "cell_type": "code",
      "execution_count": null,
      "metadata": {
        "id": "cfGtpOriFrYt"
      },
      "outputs": [],
      "source": [
        "df.describe(include='all')"
      ]
    },
    {
      "cell_type": "markdown",
      "metadata": {
        "id": "4SHd5JrzFrYu"
      },
      "source": [
        "## Menampilkan Kolom"
      ]
    },
    {
      "cell_type": "code",
      "execution_count": null,
      "metadata": {
        "id": "uwQbsAfXFrYu"
      },
      "outputs": [],
      "source": [
        "df[['province', 'unemployment', 'expenses_food_urban']].head()"
      ]
    },
    {
      "cell_type": "markdown",
      "metadata": {
        "id": "APzhPC25FrYv"
      },
      "source": [
        "## Memfilter Data"
      ]
    },
    {
      "cell_type": "code",
      "execution_count": null,
      "metadata": {
        "id": "qdVygEJsFrYw"
      },
      "outputs": [],
      "source": [
        "df[(df.island == \"Sumatera\")].head()"
      ]
    },
    {
      "cell_type": "code",
      "execution_count": null,
      "metadata": {
        "id": "FQl_sd80FrYw"
      },
      "outputs": [],
      "source": [
        "df[(df.island == \"Sumatera\") & (df.unemployment < 5)]"
      ]
    },
    {
      "cell_type": "markdown",
      "metadata": {
        "id": "PK0_nlWvFrYx"
      },
      "source": [
        "Penulisan dengan cara yang berbeda tetapi memiliki hasil yang sama"
      ]
    },
    {
      "cell_type": "code",
      "execution_count": null,
      "metadata": {
        "id": "gWVoGE-nFrYx"
      },
      "outputs": [],
      "source": [
        "df[(df['island'] == \"Sumatera\") & (df['unemployment'] < 5)].head()"
      ]
    },
    {
      "cell_type": "markdown",
      "metadata": {
        "id": "tPsAF_8oFrYy"
      },
      "source": [
        "Fungsi **isin()** dapat digunakan untuk memfilter kolom jika nilainya ditentukan dalam bentuk list/daftar. Misalnya, kami ingin menampilkan provinsi di Sumatera dan pulau Kalimantan yang memiliki tingkat pengangguran kurang dari 5"
      ]
    },
    {
      "cell_type": "code",
      "execution_count": null,
      "metadata": {
        "id": "7SMR9fyPFrYy"
      },
      "outputs": [],
      "source": [
        "df[  (df['island'].isin(['Sumatera', 'Kalimantan'])) \n",
        "   & (df['unemployment'] < 5)\n",
        "  ]"
      ]
    },
    {
      "cell_type": "markdown",
      "metadata": {
        "id": "kY9-5BJUFrYz"
      },
      "source": [
        "Untuk penyataan negasi atau NOT menggunakan tanda **~**"
      ]
    },
    {
      "cell_type": "code",
      "execution_count": null,
      "metadata": {
        "id": "ZHUyg1yMFrYz"
      },
      "outputs": [],
      "source": [
        "df[  ~(df['island'].isin(['Sumatera', 'Kalimantan'])) \n",
        "   & (df['unemployment'] < 5)\n",
        "  ].head()"
      ]
    },
    {
      "cell_type": "markdown",
      "source": [
        "Untuk mempermudah, dapat digunakan variabel baru untuk menampung hasil dari filtering"
      ],
      "metadata": {
        "id": "yzoqvEnuKBx9"
      }
    },
    {
      "cell_type": "code",
      "execution_count": null,
      "metadata": {
        "id": "YW1fZirIFrY0"
      },
      "outputs": [],
      "source": [
        "df2 = df[  ~(df['island'].isin(['Sumatera', 'Kalimantan']))\n",
        "   & (df['unemployment'] < 5)\n",
        "  ]"
      ]
    },
    {
      "cell_type": "code",
      "execution_count": null,
      "metadata": {
        "id": "lmXH4whdFrY0"
      },
      "outputs": [],
      "source": [
        "df2.sample(5)"
      ]
    },
    {
      "cell_type": "markdown",
      "metadata": {
        "id": "52Wcs3RkFrY1"
      },
      "source": [
        "## Mengurutkan data"
      ]
    },
    {
      "cell_type": "markdown",
      "metadata": {
        "id": "3-anVqXlFrY1"
      },
      "source": [
        "Fungsi **sort_values()** digunakan untuk melakukan pengurutan data berdasarkan dengan kolom yang disebutkan mulai dari nilai terkecil. Perintah berikut untuk menampilkan data diurutkan berdasarkan kolom **rainfall** "
      ]
    },
    {
      "cell_type": "code",
      "execution_count": null,
      "metadata": {
        "id": "6yW75DByFrY1"
      },
      "outputs": [],
      "source": [
        "df.sort_values('rainfall').head()"
      ]
    },
    {
      "cell_type": "markdown",
      "metadata": {
        "id": "vrVrHRoVFrY2"
      },
      "source": [
        "Atau menggunakan data yang telah difilter sebelumnya"
      ]
    },
    {
      "cell_type": "code",
      "execution_count": null,
      "metadata": {
        "id": "jR4rHtRaFrY2"
      },
      "outputs": [],
      "source": [
        "df2.sort_values('rainfall').head(5)"
      ]
    },
    {
      "cell_type": "markdown",
      "metadata": {
        "id": "bnhkZwrkFrY2"
      },
      "source": [
        "Unuk mengurutkan data dimulai dari nilai terbesar, maka parameter **ascending** diberi nilai **False**"
      ]
    },
    {
      "cell_type": "code",
      "execution_count": null,
      "metadata": {
        "id": "E4MAG2TSFrY3"
      },
      "outputs": [],
      "source": [
        "df.sort_values('rainfall', ascending=False).head()"
      ]
    },
    {
      "cell_type": "markdown",
      "metadata": {
        "id": "uyv5PoauFrY3"
      },
      "source": [
        "Jika ingin mengurutkan data dengan menggunakan lebih dari satu kolom maka perlu ditentukan daftar nama kolom, misalkan mengurutkan berdasarkan kolom **rainfall** dan **rainy_day**, dapat dilakukan seperti berikut"
      ]
    },
    {
      "cell_type": "code",
      "execution_count": null,
      "metadata": {
        "id": "NBidWwAgFrY3"
      },
      "outputs": [],
      "source": [
        "df.sort_values(['rainfall', 'rainy_day' ]).head()"
      ]
    },
    {
      "cell_type": "markdown",
      "metadata": {
        "id": "azyE90Q6FrY4"
      },
      "source": [
        "Setiap kolom juga dapat memiliki tipe pengurutannya masing-masing, misalkan **time_zone diurutkan secara DESC** dan **rainy_day secara ASC**"
      ]
    },
    {
      "cell_type": "code",
      "execution_count": null,
      "metadata": {
        "id": "vfyIIfjpFrY4"
      },
      "outputs": [],
      "source": [
        "df.sort_values(['time_zone', 'rainy_day'], ascending=[0, 1]).head(10)"
      ]
    },
    {
      "cell_type": "markdown",
      "metadata": {
        "id": "V2XJp5XqFrY4"
      },
      "source": [
        "ASC : mengurutkan dengan nilai terbesar lebih dahulu\n",
        "\n",
        "DESC: mengurutkan dengan nilai terkecil lebih dahulu"
      ]
    },
    {
      "cell_type": "markdown",
      "metadata": {
        "id": "VB40LFZNFrY5"
      },
      "source": [
        "Jika ingin menampilkan hanya kolom **time_zone, rainy_day, province, dan island**"
      ]
    },
    {
      "cell_type": "code",
      "execution_count": null,
      "metadata": {
        "id": "yHOpBHTWFrY5"
      },
      "outputs": [],
      "source": [
        "df[['time_zone', 'rainy_day', 'province', 'island']]\\\n",
        "    .sort_values(['time_zone', 'rainy_day'], ascending=[0, 1])\\\n",
        "    .head(10)"
      ]
    },
    {
      "cell_type": "markdown",
      "source": [
        "## Summarising Data"
      ],
      "metadata": {
        "id": "f3Oma2yILhFo"
      }
    },
    {
      "cell_type": "markdown",
      "source": [
        "fungsi count() digunakan untuk menghitung jumlah record untuk setiap kolom."
      ],
      "metadata": {
        "id": "hY2JclQeLnRB"
      }
    },
    {
      "cell_type": "code",
      "source": [
        "df.count()"
      ],
      "metadata": {
        "id": "6fN0F-R2LmFt"
      },
      "execution_count": null,
      "outputs": []
    },
    {
      "cell_type": "markdown",
      "source": [
        "Untuk menghitung jumlah record pada sebuah kolom dapat menggunakan perintah berikut"
      ],
      "metadata": {
        "id": "P-ozcdroL1f6"
      }
    },
    {
      "cell_type": "code",
      "source": [
        "df.rainfall.count()"
      ],
      "metadata": {
        "id": "qy6AuZI4Lw1Y"
      },
      "execution_count": null,
      "outputs": []
    },
    {
      "cell_type": "markdown",
      "source": [
        "atau dapat juga ditulis seperti berikut"
      ],
      "metadata": {
        "id": "DcYKkkGxL53_"
      }
    },
    {
      "cell_type": "code",
      "source": [
        "df['rainfall'].count()"
      ],
      "metadata": {
        "id": "u5Z-Z-zdL5NK"
      },
      "execution_count": null,
      "outputs": []
    },
    {
      "cell_type": "markdown",
      "source": [
        "Fungsi lain seperti **sum(), min(), max(), mean()** dan lain-lain, hampir sama cara penggunaannya"
      ],
      "metadata": {
        "id": "r3Gy74ySMCCJ"
      }
    },
    {
      "cell_type": "code",
      "source": [
        "df.sum()"
      ],
      "metadata": {
        "id": "y3azT35NL-X1"
      },
      "execution_count": null,
      "outputs": []
    },
    {
      "cell_type": "markdown",
      "source": [
        "Penggunaan lain dari fungsi statistik dapat dilihat sebagai berikut:"
      ],
      "metadata": {
        "id": "fL-nHIX2MNyC"
      }
    },
    {
      "cell_type": "code",
      "source": [
        "print('Total rainfall \\t\\t:', df.rainfall.sum())\n",
        "print('Minimum rainfall value \\t:', df.rainfall.min())\n",
        "print('Maximum rainfall value \\t:', df.rainfall.max())\n",
        "print('Average rainfall value \\t:', df.rainfall.mean())"
      ],
      "metadata": {
        "id": "L854G1LwMHn0"
      },
      "execution_count": null,
      "outputs": []
    },
    {
      "cell_type": "markdown",
      "source": [
        "## Grouping"
      ],
      "metadata": {
        "id": "6P95KTYDMURr"
      }
    },
    {
      "cell_type": "markdown",
      "source": [
        "Pandas memiliki fungsi **groupby()** untuk melakukan perhitungan kelompok berdasarkan nilai unik sesuai kolom yang dipilih."
      ],
      "metadata": {
        "id": "c8kY6WUNMX-e"
      }
    },
    {
      "cell_type": "code",
      "source": [
        "df.groupby('time_zone').count()"
      ],
      "metadata": {
        "id": "jaTD1Pf6MQ49"
      },
      "execution_count": null,
      "outputs": []
    },
    {
      "cell_type": "markdown",
      "source": [
        "Jika ingin hannya menampilkan kolom tertentu, dapat dituliskan sepeti berikut"
      ],
      "metadata": {
        "id": "S6KGelx2Mog5"
      }
    },
    {
      "cell_type": "code",
      "source": [
        "df.groupby(\"time_zone\")[\"province\"].count()"
      ],
      "metadata": {
        "id": "6RjOVN1GMgLX"
      },
      "execution_count": null,
      "outputs": []
    },
    {
      "cell_type": "markdown",
      "source": [
        "Fungsi summary lain seperti **sum, min, max, mean, first,** ataupun **last** dapat digunakan pada fungsi **groupby()** untuk mendapatkan nilai statistik setiap kelompok. Misalkan kita ingin mendapatkan nilai yang pertama untuk setiap time_zone"
      ],
      "metadata": {
        "id": "eia7WqBKMyJ9"
      }
    },
    {
      "cell_type": "code",
      "source": [
        "df.groupby('time_zone').first()"
      ],
      "metadata": {
        "id": "t09LrIFpMrX_"
      },
      "execution_count": null,
      "outputs": []
    },
    {
      "cell_type": "markdown",
      "source": [
        "Menghitung rata-rata rainfall untuk setiap time_zone"
      ],
      "metadata": {
        "id": "9BCBOQ7pM--3"
      }
    },
    {
      "cell_type": "code",
      "source": [
        "df.groupby('time_zone')[['rainfall']].mean()"
      ],
      "metadata": {
        "id": "z2kzmwJmM7A5"
      },
      "execution_count": null,
      "outputs": []
    },
    {
      "cell_type": "markdown",
      "source": [
        "Fungsi **groupby()** dapat digabungkan dengan fungsi **agg()**. Sebagai contoh, mengihtung rata-rata rainfall untuk setiap time_zone"
      ],
      "metadata": {
        "id": "A6s0f3QPNGb3"
      }
    },
    {
      "cell_type": "code",
      "source": [
        "df.groupby('time_zone').agg(avg_rainfall=('rainfall', 'mean'))"
      ],
      "metadata": {
        "id": "FjShfssBNBgz"
      },
      "execution_count": null,
      "outputs": []
    },
    {
      "cell_type": "code",
      "source": [
        "df.groupby('time_zone').agg(\n",
        "    avg_rainfall=('rainfall', 'mean'),\n",
        "    max_rainfall=('rainfall', 'max'),\n",
        "    min_rainfall=('rainfall', 'min'))"
      ],
      "metadata": {
        "id": "tt6zkGMvNLA0"
      },
      "execution_count": null,
      "outputs": []
    },
    {
      "cell_type": "markdown",
      "source": [
        "Perhitungan aggregasi untuk kolom yang berbeda"
      ],
      "metadata": {
        "id": "R-cCcHGLNl9t"
      }
    },
    {
      "cell_type": "code",
      "source": [
        "df.groupby('time_zone').agg(\n",
        "    avg_rainfall=('rainfall', 'mean'),\n",
        "    min_rainy_day=('rainy_day', 'min'),\n",
        "    max_rainy_day=('rainy_day', 'max'))"
      ],
      "metadata": {
        "id": "jFG4_emZNPvs"
      },
      "execution_count": null,
      "outputs": []
    },
    {
      "cell_type": "markdown",
      "source": [
        "Supaya kolom time_zone tidak ditampilkan sebagai index, maka parameter **as_index** diset **False**"
      ],
      "metadata": {
        "id": "UAcz7egYNtiW"
      }
    },
    {
      "cell_type": "code",
      "source": [
        "df.groupby('time_zone', as_index=False).agg(\n",
        "    avg_rainfall=('rainfall', 'mean'),\n",
        "    min_rainy_day=('rainy_day', 'min'),\n",
        "    max_rainy_day=('rainy_day', 'max'))"
      ],
      "metadata": {
        "id": "QpCfJIK6Noqu"
      },
      "execution_count": null,
      "outputs": []
    },
    {
      "cell_type": "markdown",
      "source": [
        "## Transformasi Kolom"
      ],
      "metadata": {
        "id": "pMkxuX-tN1t4"
      }
    },
    {
      "cell_type": "code",
      "source": [
        "df['expenses_urban'] = df['expenses_food_urban'] + df['expenses_other_urban']\n",
        "\n",
        "df[['province', 'island', 'expenses_urban', 'expenses_food_urban', 'expenses_other_urban']].head()"
      ],
      "metadata": {
        "id": "99hMbj0cNylq"
      },
      "execution_count": null,
      "outputs": []
    },
    {
      "cell_type": "code",
      "source": [
        "df.count()"
      ],
      "metadata": {
        "id": "6eecgjxDN9wl"
      },
      "execution_count": null,
      "outputs": []
    },
    {
      "cell_type": "markdown",
      "source": [
        "Untuk melakukan penghapusan kolom dapat dilakukan dengan perintah **drop()**"
      ],
      "metadata": {
        "id": "RngGxF9SOE4F"
      }
    },
    {
      "cell_type": "code",
      "source": [
        "df = df.drop(columns=['expenses_urban'])"
      ],
      "metadata": {
        "id": "xRW8fOCCOB5R"
      },
      "execution_count": null,
      "outputs": []
    },
    {
      "cell_type": "code",
      "source": [
        "df.count()"
      ],
      "metadata": {
        "id": "JuYLd_kpOH8K"
      },
      "execution_count": null,
      "outputs": []
    },
    {
      "cell_type": "markdown",
      "source": [
        "Merubah nama kolom, misalkan kedalam bahasa Indonesia"
      ],
      "metadata": {
        "id": "nFSzpNEkOOao"
      }
    },
    {
      "cell_type": "code",
      "source": [
        "df.rename(\n",
        "            columns={\"province\": \"propinsi\", \"rainfall\": \"curah_hujan\"},\n",
        "            inplace = True)\n",
        "\n",
        "df.count()"
      ],
      "metadata": {
        "id": "2or6DmWZOLC-"
      },
      "execution_count": null,
      "outputs": []
    },
    {
      "cell_type": "markdown",
      "source": [
        "## Join Dengan Data Referensi"
      ],
      "metadata": {
        "id": "BY7-rm91OVn9"
      }
    },
    {
      "cell_type": "code",
      "source": [
        "time_zone_data = {\n",
        "        'time_zone': [1, 2, 3],\n",
        "        'name_zone': ['WIB', 'WITA', 'WIT']}\n",
        "\n",
        "time_zone_df = pd.DataFrame(time_zone_data, columns = ['time_zone', 'name_zone'])\n"
      ],
      "metadata": {
        "id": "GEiYUSkNOS3z"
      },
      "execution_count": null,
      "outputs": []
    },
    {
      "cell_type": "code",
      "source": [
        "time_zone_df"
      ],
      "metadata": {
        "id": "euaN1v7kO0Jt"
      },
      "execution_count": null,
      "outputs": []
    },
    {
      "cell_type": "markdown",
      "source": [
        "Pada contoh ini akan mentransformasikan **time_zone** pada dataframe **df** dengan menambahkan kolom baru yaitu **name_zone**. Fungsi yang digunakan adalah merge dengan parameter **how='left'**. Artinya adalah kita akan melakukan **left join** antara **df** dan **time_zone_df**"
      ],
      "metadata": {
        "id": "wQPKz5qiOhSp"
      }
    },
    {
      "cell_type": "code",
      "source": [
        "result_df = pd.merge(df, time_zone_df, on='time_zone', how='left')"
      ],
      "metadata": {
        "id": "cSnwxOLpObsb"
      },
      "execution_count": null,
      "outputs": []
    },
    {
      "cell_type": "code",
      "source": [
        "result_df[['propinsi', 'curah_hujan', 'time_zone', 'name_zone']].head()"
      ],
      "metadata": {
        "id": "fSCjdcnQOwmJ"
      },
      "execution_count": null,
      "outputs": []
    },
    {
      "cell_type": "markdown",
      "source": [
        "## Data Visualisasi"
      ],
      "metadata": {
        "id": "AgD_1Wa5O8Ai"
      }
    },
    {
      "cell_type": "code",
      "source": [
        "%matplotlib inline"
      ],
      "metadata": {
        "id": "xokclxd0OyjR"
      },
      "execution_count": null,
      "outputs": []
    },
    {
      "cell_type": "markdown",
      "source": [
        "Untuk memvisualisasikan DataFrame kedalam bentuk grafik, dapat menggunakan fungsi **plot()**, yang secara default menggunakan **matplotlib**"
      ],
      "metadata": {
        "id": "6ECFiUJ8PFyO"
      }
    },
    {
      "cell_type": "code",
      "source": [
        "result_df.plot(x=\"propinsi\", y=\"curah_hujan\", rot=90, figsize=(10,5))"
      ],
      "metadata": {
        "id": "LfTBim1CO_Ot"
      },
      "execution_count": null,
      "outputs": []
    },
    {
      "cell_type": "markdown",
      "source": [
        "Fungsi **plot()** juga dapat digabungkan dengan fungsi-fungsi aggregasi atau summary"
      ],
      "metadata": {
        "id": "Lw6J8J-7PL7R"
      }
    },
    {
      "cell_type": "code",
      "source": [
        "result_df.groupby(['time_zone', 'name_zone'], as_index=False).agg(avg_rainfall=('curah_hujan', 'mean'))\\\n",
        "    .plot(x=\"time_zone\", y=\"avg_rainfall\")"
      ],
      "metadata": {
        "id": "TW5-MUZ3PBjZ"
      },
      "execution_count": null,
      "outputs": []
    },
    {
      "cell_type": "markdown",
      "source": [
        "Data ditampilkan dalam bentuk grafik batang"
      ],
      "metadata": {
        "id": "KO4WLZIdPVNr"
      }
    },
    {
      "cell_type": "code",
      "source": [
        "result_df.groupby(['time_zone', 'name_zone'], as_index=False).agg(avg_rainfall=('curah_hujan', 'mean'))\\\n",
        "    .plot(x=\"name_zone\", y=\"avg_rainfall\", kind=\"bar\")"
      ],
      "metadata": {
        "id": "ws7OGdcZPQpT"
      },
      "execution_count": null,
      "outputs": []
    },
    {
      "cell_type": "code",
      "source": [],
      "metadata": {
        "id": "_7DkZ4WYPYb2"
      },
      "execution_count": null,
      "outputs": []
    }
  ],
  "metadata": {
    "kernelspec": {
      "display_name": "Python 3",
      "language": "python",
      "name": "python3"
    },
    "language_info": {
      "codemirror_mode": {
        "name": "ipython",
        "version": 3
      },
      "file_extension": ".py",
      "mimetype": "text/x-python",
      "name": "python",
      "nbconvert_exporter": "python",
      "pygments_lexer": "ipython3",
      "version": "3.7.7"
    },
    "colab": {
      "provenance": []
    }
  },
  "nbformat": 4,
  "nbformat_minor": 0
}