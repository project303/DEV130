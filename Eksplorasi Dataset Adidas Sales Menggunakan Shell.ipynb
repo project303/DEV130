{
 "cells": [
  {
   "cell_type": "code",
   "execution_count": null,
   "metadata": {
    "id": "mDr-nBnXZdKQ"
   },
   "outputs": [],
   "source": [
    "! whoami"
   ]
  },
  {
   "cell_type": "code",
   "execution_count": null,
   "metadata": {
    "id": "656yfGvJZfDz"
   },
   "outputs": [],
   "source": [
    "! hostname"
   ]
  },
  {
   "cell_type": "code",
   "execution_count": null,
   "metadata": {
    "id": "fKed21lBZhjQ"
   },
   "outputs": [],
   "source": [
    "! pwd"
   ]
  },
  {
   "cell_type": "code",
   "execution_count": null,
   "metadata": {
    "id": "xqKWEiTFZqIj"
   },
   "outputs": [],
   "source": [
    "! date"
   ]
  },
  {
   "cell_type": "code",
   "execution_count": null,
   "metadata": {
    "id": "yN5B7USLZr-t"
   },
   "outputs": [],
   "source": []
  },
  {
   "cell_type": "markdown",
   "metadata": {
    "id": "64tiw7N0pKVQ"
   },
   "source": [
    "# Tugas : Eksplorasi Dataset Adidas Sales Menggunakan Shell"
   ]
  },
  {
   "cell_type": "markdown",
   "metadata": {
    "id": "g6abFvZfqfaR"
   },
   "source": [
    "### 0. Persiapan Dataset"
   ]
  },
  {
   "cell_type": "markdown",
   "metadata": {
    "id": "0eRyTS7emgFD"
   },
   "source": [
    "Download dataset Adidas Sales\n",
    "\n",
    "Link: https://github.com/project303/DEV130/raw/refs/heads/main/dataset/adidas-sales-dataset.zip\n",
    "\n",
    "\n",
    "***Hints:***\n",
    "1. Gunakan wget"
   ]
  },
  {
   "cell_type": "code",
   "execution_count": null,
   "metadata": {
    "id": "5qbh9ed7Zspd"
   },
   "outputs": [],
   "source": [
    "# type and run your answer here\n",
    "\n"
   ]
  },
  {
   "cell_type": "markdown",
   "metadata": {
    "id": "LkRGMUIxnJ2s"
   },
   "source": [
    "Pastikan **adidas-sales-dataset.zip** telah terdownload. Gunakan perintah **ls**"
   ]
  },
  {
   "cell_type": "code",
   "execution_count": null,
   "metadata": {
    "id": "ROfhBMeXjvki"
   },
   "outputs": [],
   "source": [
    "# type and run your answer here\n",
    "\n"
   ]
  },
  {
   "cell_type": "markdown",
   "metadata": {
    "id": "egOrJMfooJ-s"
   },
   "source": [
    "Extract file adidas-sales-dataset.zip"
   ]
  },
  {
   "cell_type": "code",
   "execution_count": null,
   "metadata": {
    "id": "7-366VSYolEi"
   },
   "outputs": [],
   "source": [
    "# type and run your answer here\n",
    "\n"
   ]
  },
  {
   "cell_type": "markdown",
   "metadata": {
    "id": "AYdUX1TUoiKQ"
   },
   "source": [
    "Tampilkan semua file dan direktori beserta seluruh atributnya"
   ]
  },
  {
   "cell_type": "code",
   "execution_count": null,
   "metadata": {
    "id": "0F0-N5XxozEh"
   },
   "outputs": [],
   "source": [
    "# type and run your answer here\n",
    "\n"
   ]
  },
  {
   "cell_type": "markdown",
   "metadata": {
    "id": "hIH3RGeko9gr"
   },
   "source": [
    "Buat direktori **dataset**"
   ]
  },
  {
   "cell_type": "code",
   "execution_count": null,
   "metadata": {
    "id": "wVnUEQ1oo4c5"
   },
   "outputs": [],
   "source": [
    "# type and run your answer here\n",
    "\n"
   ]
  },
  {
   "cell_type": "markdown",
   "metadata": {
    "id": "8WwZqVUmpZrZ"
   },
   "source": [
    "Pindahkan file **adidas-sales-dataset.tsv** ke direktori **dataset**"
   ]
  },
  {
   "cell_type": "code",
   "execution_count": null,
   "metadata": {
    "id": "SZPvjnLmo5GF"
   },
   "outputs": [],
   "source": [
    "# type and run your answer here\n",
    "\n"
   ]
  },
  {
   "cell_type": "markdown",
   "metadata": {
    "id": "C3T90px1pl54"
   },
   "source": [
    "Hapus file adidas-sales-dataset.zip"
   ]
  },
  {
   "cell_type": "code",
   "execution_count": null,
   "metadata": {
    "id": "cb2x7xh_o5sB"
   },
   "outputs": [],
   "source": [
    "# type and run your answer here\n",
    "\n"
   ]
  },
  {
   "cell_type": "markdown",
   "metadata": {
    "id": "MXPrF2dyp818"
   },
   "source": [
    "### 1. Tampilkan 10 record pertama"
   ]
  },
  {
   "cell_type": "code",
   "execution_count": null,
   "metadata": {
    "id": "gKCbIwD0aCzG"
   },
   "outputs": [],
   "source": [
    "# type and run your answer here\n",
    "\n"
   ]
  },
  {
   "cell_type": "markdown",
   "metadata": {
    "id": "NIi-aB9RqLt8"
   },
   "source": [
    "### 2. Tampilkan 10 record terakhir"
   ]
  },
  {
   "cell_type": "code",
   "execution_count": null,
   "metadata": {
    "id": "2dxk8XFKatLa"
   },
   "outputs": [],
   "source": [
    "# type and run your answer here\n",
    "\n"
   ]
  },
  {
   "cell_type": "markdown",
   "metadata": {
    "id": "BD0fyBQNqQ8M"
   },
   "source": [
    "### 3. Berapa jumlah record dataset Adidas Sales"
   ]
  },
  {
   "cell_type": "code",
   "execution_count": null,
   "metadata": {
    "id": "L83YhdFaawR1"
   },
   "outputs": [],
   "source": [
    "# type and run your answer here\n",
    "\n"
   ]
  },
  {
   "cell_type": "markdown",
   "metadata": {
    "id": "4lsjiSz6q2Sd"
   },
   "source": [
    "### 4. Tampilkan 20 record pertama"
   ]
  },
  {
   "cell_type": "code",
   "execution_count": null,
   "metadata": {
    "id": "jn5NUSMJq8xh"
   },
   "outputs": [],
   "source": [
    "# type and run your answer here\n",
    "\n"
   ]
  },
  {
   "cell_type": "markdown",
   "metadata": {
    "id": "3UPS3UdjrK09"
   },
   "source": [
    "Rapikan tampilan menggunakan **csvlook**\n",
    "\n",
    "***Hinst***\n",
    "1. Pastikan cvskit telah terinstall\n",
    "2. Penggunaannya: head .... | csvlook -d $'\\t'"
   ]
  },
  {
   "cell_type": "code",
   "execution_count": null,
   "metadata": {
    "id": "63jP_INGcnEs"
   },
   "outputs": [],
   "source": [
    "# type and run your answer here\n",
    "\n"
   ]
  },
  {
   "cell_type": "markdown",
   "metadata": {
    "id": "D-_iHwMvsGwY"
   },
   "source": [
    "### 5. Tampilkan Top 10 Sales Terbesar\n",
    "\n",
    "**Hinst:**\n",
    "1. Gunakan perintah dengan pola: **tail** .. | **sort** .. | **head**\n",
    "2. Untuk mengexclude header, pada bagian tail gunakan opsi **-n +2**\n",
    "3. Gunakan field **Total Sales** yang berada pada kolom ke 10\n",
    "4. Untuk mengurutkan kolom ke 10 desc, gunakan tipe kolom **numerik**, sebagaimana dijelaskan pada **slide 32**"
   ]
  },
  {
   "cell_type": "code",
   "execution_count": null,
   "metadata": {
    "id": "Ia_KFdMMkGaK"
   },
   "outputs": [],
   "source": [
    "# type and run your answer here\n",
    "\n",
    "! tail -n +2 ... | sort -t$'\\t' ... | ..."
   ]
  },
  {
   "cell_type": "markdown",
   "metadata": {
    "id": "6ShBaFXbuQ1p"
   },
   "source": [
    "Tampilkan hanya field City, Product, dan Total Sales\n",
    "\n",
    "**Hinst:**\n",
    "1. Gunakan kolom ke 6, 7, dan 10\n",
    "2. Tambahkan perintah awk pada kode sebelumnya\n",
    "3. Penggunaan awk dijelaskan pada **slide 34**"
   ]
  },
  {
   "cell_type": "code",
   "execution_count": null,
   "metadata": {
    "id": "n_P8BCjxlqe2"
   },
   "outputs": [],
   "source": [
    "# type and run your answer here\n",
    "\n"
   ]
  },
  {
   "cell_type": "markdown",
   "metadata": {
    "id": "Evcbsy2IvqXY"
   },
   "source": [
    "Tampilkan hanya field City, Product, dan Total Sales.\n",
    "\n",
    "Ubah delimiter menjadi pipe \"|\"\n",
    "\n",
    "**Hinst:**\n",
    "1. Gunakan opsi **OFS** pada awk, sebagaimana dijelaskan pada **slide 25**\n"
   ]
  },
  {
   "cell_type": "code",
   "execution_count": null,
   "metadata": {
    "id": "eNAfJVCOwC_y"
   },
   "outputs": [],
   "source": [
    "# type and run your answer here\n",
    "\n"
   ]
  },
  {
   "cell_type": "markdown",
   "metadata": {
    "id": "cmvNmWWBwbfM"
   },
   "source": [
    "### 6. Tampilkan 10 produk dengan operating profit terkecil\n",
    "\n",
    "Tampilkan fied **Product, Units Sold, Total Sales, dan Operating Profit**\n",
    "\n",
    "Hinst:\n",
    "1. Gunakan dan modifikasi kode sebelumnya\n",
    "2. Output kolom ke 7, 9, 10,  dan 11"
   ]
  },
  {
   "cell_type": "code",
   "execution_count": null,
   "metadata": {
    "id": "DPp63yysxOlJ"
   },
   "outputs": [],
   "source": [
    "# type and run your answer here\n",
    "\n"
   ]
  },
  {
   "cell_type": "markdown",
   "metadata": {
    "id": "ATt28iXLySnN"
   },
   "source": [
    "### 7. Ratailer mana saja yang menjual produk Adidas?\n",
    "\n",
    "**Hinst:**\n",
    "1. Gunakan perintah: **awk** .. | **tail** .. | **sort** | **uniq**\n",
    "2. Retailer berada pada kolom ke 1\n",
    "3. Gunakan tail untuk mengexclude header"
   ]
  },
  {
   "cell_type": "code",
   "execution_count": null,
   "metadata": {
    "id": "JAk1JYMve41l"
   },
   "outputs": [],
   "source": [
    "# type and run your answer here\n",
    "\n"
   ]
  },
  {
   "cell_type": "markdown",
   "metadata": {
    "id": "jJbOHBYpzS9s"
   },
   "source": [
    "### 8. Produk apa saja yang dijual oleh Adidas?\n",
    "\n",
    "Hinst:\n",
    "1. Produk berada pada kolom ke 7"
   ]
  },
  {
   "cell_type": "code",
   "execution_count": null,
   "metadata": {
    "id": "srRKiL5SfPc1"
   },
   "outputs": [],
   "source": [
    "# type and run your answer here\n",
    "\n"
   ]
  }
 ],
 "metadata": {
  "colab": {
   "provenance": []
  },
  "kernelspec": {
   "display_name": "Python 3 (ipykernel)",
   "language": "python",
   "name": "python3"
  },
  "language_info": {
   "codemirror_mode": {
    "name": "ipython",
    "version": 3
   },
   "file_extension": ".py",
   "mimetype": "text/x-python",
   "name": "python",
   "nbconvert_exporter": "python",
   "pygments_lexer": "ipython3",
   "version": "3.10.12"
  }
 },
 "nbformat": 4,
 "nbformat_minor": 4
}
